{
 "cells": [
  {
   "cell_type": "markdown",
   "id": "8a6ecee2-3ef4-40c0-b029-e842e016c5fc",
   "metadata": {},
   "source": [
    "- Download the Meta-Llama model:\n",
    "```\n",
    "pip install -U \"huggingface_hub[cli]\"\n",
    "huggingface-cli login\n",
    "huggingface-cli download mlx-community/Meta-Llama-3-8B-Instruct-4bit --exclude \"original/*\" --local-dir mlx-community/Meta-Llama-3-8B-Instruct-4bit\n",
    "or\n",
    "huggingface-cli download mlx-community/Meta-Llama-3.1-70B-Instruct-4bit --exclude \"original/*\" --local-dir mlx-community/Meta-Llama-3.1-70B-Instruct-4bit\n",
    "```\n",
    "\n",
    "- Install curate_gpt: https://github.com/monarch-initiative/curategpt\n",
    "- `export OPENAI_API_KEY=`"
   ]
  },
  {
   "cell_type": "code",
   "execution_count": 1,
   "id": "48969442-20c4-4b94-8abd-16ae48973883",
   "metadata": {},
   "outputs": [
    {
     "name": "stdout",
     "output_type": "stream",
     "text": [
      "Requirement already satisfied: ipywidgets in ./venv/lib/python3.11/site-packages (8.1.5)\n",
      "Requirement already satisfied: comm>=0.1.3 in ./venv/lib/python3.11/site-packages (from ipywidgets) (0.2.2)\n",
      "Requirement already satisfied: ipython>=6.1.0 in ./venv/lib/python3.11/site-packages (from ipywidgets) (8.18.1)\n",
      "Requirement already satisfied: traitlets>=4.3.1 in ./venv/lib/python3.11/site-packages (from ipywidgets) (5.14.3)\n",
      "Requirement already satisfied: widgetsnbextension~=4.0.12 in ./venv/lib/python3.11/site-packages (from ipywidgets) (4.0.13)\n",
      "Requirement already satisfied: jupyterlab-widgets~=3.0.12 in ./venv/lib/python3.11/site-packages (from ipywidgets) (3.0.13)\n",
      "Requirement already satisfied: decorator in ./venv/lib/python3.11/site-packages (from ipython>=6.1.0->ipywidgets) (5.1.1)\n",
      "Requirement already satisfied: jedi>=0.16 in ./venv/lib/python3.11/site-packages (from ipython>=6.1.0->ipywidgets) (0.19.1)\n",
      "Requirement already satisfied: matplotlib-inline in ./venv/lib/python3.11/site-packages (from ipython>=6.1.0->ipywidgets) (0.1.7)\n",
      "Requirement already satisfied: prompt-toolkit<3.1.0,>=3.0.41 in ./venv/lib/python3.11/site-packages (from ipython>=6.1.0->ipywidgets) (3.0.47)\n",
      "Requirement already satisfied: pygments>=2.4.0 in ./venv/lib/python3.11/site-packages (from ipython>=6.1.0->ipywidgets) (2.18.0)\n",
      "Requirement already satisfied: stack-data in ./venv/lib/python3.11/site-packages (from ipython>=6.1.0->ipywidgets) (0.6.3)\n",
      "Requirement already satisfied: pexpect>4.3 in ./venv/lib/python3.11/site-packages (from ipython>=6.1.0->ipywidgets) (4.9.0)\n",
      "Requirement already satisfied: parso<0.9.0,>=0.8.3 in ./venv/lib/python3.11/site-packages (from jedi>=0.16->ipython>=6.1.0->ipywidgets) (0.8.4)\n",
      "Requirement already satisfied: ptyprocess>=0.5 in ./venv/lib/python3.11/site-packages (from pexpect>4.3->ipython>=6.1.0->ipywidgets) (0.7.0)\n",
      "Requirement already satisfied: wcwidth in ./venv/lib/python3.11/site-packages (from prompt-toolkit<3.1.0,>=3.0.41->ipython>=6.1.0->ipywidgets) (0.2.13)\n",
      "Requirement already satisfied: executing>=1.2.0 in ./venv/lib/python3.11/site-packages (from stack-data->ipython>=6.1.0->ipywidgets) (2.1.0)\n",
      "Requirement already satisfied: asttokens>=2.1.0 in ./venv/lib/python3.11/site-packages (from stack-data->ipython>=6.1.0->ipywidgets) (2.4.1)\n",
      "Requirement already satisfied: pure-eval in ./venv/lib/python3.11/site-packages (from stack-data->ipython>=6.1.0->ipywidgets) (0.2.3)\n",
      "Requirement already satisfied: six>=1.12.0 in ./venv/lib/python3.11/site-packages (from asttokens>=2.1.0->stack-data->ipython>=6.1.0->ipywidgets) (1.16.0)\n",
      "Requirement already satisfied: torch in ./venv/lib/python3.11/site-packages (2.4.1)\n",
      "Requirement already satisfied: filelock in ./venv/lib/python3.11/site-packages (from torch) (3.16.0)\n",
      "Requirement already satisfied: typing-extensions>=4.8.0 in ./venv/lib/python3.11/site-packages (from torch) (4.12.2)\n",
      "Requirement already satisfied: sympy in ./venv/lib/python3.11/site-packages (from torch) (1.13.2)\n",
      "Requirement already satisfied: networkx in ./venv/lib/python3.11/site-packages (from torch) (3.2.1)\n",
      "Requirement already satisfied: jinja2 in ./venv/lib/python3.11/site-packages (from torch) (3.1.4)\n",
      "Requirement already satisfied: fsspec in ./venv/lib/python3.11/site-packages (from torch) (2024.9.0)\n",
      "Requirement already satisfied: MarkupSafe>=2.0 in ./venv/lib/python3.11/site-packages (from jinja2->torch) (2.1.5)\n",
      "Requirement already satisfied: mpmath<1.4,>=1.1.0 in ./venv/lib/python3.11/site-packages (from sympy->torch) (1.3.0)\n",
      "Requirement already satisfied: mlx-lm in ./venv/lib/python3.11/site-packages (0.18.1)\n",
      "Requirement already satisfied: mlx>=0.17.0 in ./venv/lib/python3.11/site-packages (from mlx-lm) (0.17.2)\n",
      "Requirement already satisfied: numpy in ./venv/lib/python3.11/site-packages (from mlx-lm) (1.26.4)\n",
      "Requirement already satisfied: transformers>=4.39.3 in ./venv/lib/python3.11/site-packages (from transformers[sentencepiece]>=4.39.3->mlx-lm) (4.44.2)\n",
      "Requirement already satisfied: protobuf in ./venv/lib/python3.11/site-packages (from mlx-lm) (3.20.0)\n",
      "Requirement already satisfied: pyyaml in ./venv/lib/python3.11/site-packages (from mlx-lm) (6.0.2)\n",
      "Requirement already satisfied: jinja2 in ./venv/lib/python3.11/site-packages (from mlx-lm) (3.1.4)\n",
      "Requirement already satisfied: filelock in ./venv/lib/python3.11/site-packages (from transformers>=4.39.3->transformers[sentencepiece]>=4.39.3->mlx-lm) (3.16.0)\n",
      "Requirement already satisfied: huggingface-hub<1.0,>=0.23.2 in ./venv/lib/python3.11/site-packages (from transformers>=4.39.3->transformers[sentencepiece]>=4.39.3->mlx-lm) (0.24.6)\n",
      "Requirement already satisfied: packaging>=20.0 in ./venv/lib/python3.11/site-packages (from transformers>=4.39.3->transformers[sentencepiece]>=4.39.3->mlx-lm) (24.1)\n",
      "Requirement already satisfied: regex!=2019.12.17 in ./venv/lib/python3.11/site-packages (from transformers>=4.39.3->transformers[sentencepiece]>=4.39.3->mlx-lm) (2024.9.11)\n",
      "Requirement already satisfied: requests in ./venv/lib/python3.11/site-packages (from transformers>=4.39.3->transformers[sentencepiece]>=4.39.3->mlx-lm) (2.32.3)\n",
      "Requirement already satisfied: safetensors>=0.4.1 in ./venv/lib/python3.11/site-packages (from transformers>=4.39.3->transformers[sentencepiece]>=4.39.3->mlx-lm) (0.4.5)\n",
      "Requirement already satisfied: tokenizers<0.20,>=0.19 in ./venv/lib/python3.11/site-packages (from transformers>=4.39.3->transformers[sentencepiece]>=4.39.3->mlx-lm) (0.19.1)\n",
      "Requirement already satisfied: tqdm>=4.27 in ./venv/lib/python3.11/site-packages (from transformers>=4.39.3->transformers[sentencepiece]>=4.39.3->mlx-lm) (4.66.5)\n",
      "Requirement already satisfied: sentencepiece!=0.1.92,>=0.1.91 in ./venv/lib/python3.11/site-packages (from transformers[sentencepiece]>=4.39.3->mlx-lm) (0.2.0)\n",
      "Requirement already satisfied: MarkupSafe>=2.0 in ./venv/lib/python3.11/site-packages (from jinja2->mlx-lm) (2.1.5)\n",
      "Requirement already satisfied: fsspec>=2023.5.0 in ./venv/lib/python3.11/site-packages (from huggingface-hub<1.0,>=0.23.2->transformers>=4.39.3->transformers[sentencepiece]>=4.39.3->mlx-lm) (2024.9.0)\n",
      "Requirement already satisfied: typing-extensions>=3.7.4.3 in ./venv/lib/python3.11/site-packages (from huggingface-hub<1.0,>=0.23.2->transformers>=4.39.3->transformers[sentencepiece]>=4.39.3->mlx-lm) (4.12.2)\n",
      "Requirement already satisfied: charset-normalizer<4,>=2 in ./venv/lib/python3.11/site-packages (from requests->transformers>=4.39.3->transformers[sentencepiece]>=4.39.3->mlx-lm) (3.3.2)\n",
      "Requirement already satisfied: idna<4,>=2.5 in ./venv/lib/python3.11/site-packages (from requests->transformers>=4.39.3->transformers[sentencepiece]>=4.39.3->mlx-lm) (3.8)\n",
      "Requirement already satisfied: urllib3<3,>=1.21.1 in ./venv/lib/python3.11/site-packages (from requests->transformers>=4.39.3->transformers[sentencepiece]>=4.39.3->mlx-lm) (2.2.2)\n",
      "Requirement already satisfied: certifi>=2017.4.17 in ./venv/lib/python3.11/site-packages (from requests->transformers>=4.39.3->transformers[sentencepiece]>=4.39.3->mlx-lm) (2024.8.30)\n"
     ]
    }
   ],
   "source": [
    "import sys\n",
    "!{sys.executable} -m pip install --upgrade ipywidgets\n",
    "!{sys.executable} -m pip install torch\n",
    "!{sys.executable} -m pip install mlx-lm"
   ]
  },
  {
   "cell_type": "code",
   "execution_count": 2,
   "id": "3f9cbe84-5f66-48f6-850d-579a72ef0bfe",
   "metadata": {},
   "outputs": [],
   "source": [
    "from mlx_lm import load, generate\n",
    "\n",
    "# # Define your model to import\n",
    "# model_name = \"mlx-community/Meta-Llama-3-8B-Instruct-4bit\"\n",
    "# # Loading model\n",
    "# model, tokenizer = load(model_name)\n",
    "\n",
    "# model_filename = '/Users/hk9/Downloads/llama_mlx/mlx-community/Meta-Llama-3-8B-Instruct-4bit'\n",
    "model_filename = '/Users/hk9/Downloads/llama_mlx/mlx-community/Meta-Llama-3.1-70B-Instruct-4bit'\n",
    "model, tokenizer = load(model_filename)"
   ]
  },
  {
   "cell_type": "code",
   "execution_count": 6,
   "id": "8030f06a-59e8-435d-b6ac-700c263eb5bf",
   "metadata": {},
   "outputs": [],
   "source": [
    "cell_type_name = \"Striated cell of salivary gland\"\n",
    "cell_definition = '''\n",
    "The striated cells of the salivary gland, also known as striated duct cells, play a central role in the secretion and modification of saliva. These cells exhibit distinctive longitudinal striations along their basal membrane, which give them their name (Roussa, 2011). Highly specialized and unique to the salivary glands, striated cells are considered an integral part of the salivary duct system, specifically in the striated ducts that connect the intercalated duct with the excretory duct in the gland.\n",
    "\n",
    "Why are the striated cells vital? The saliva created within the salivary glands is initially isotonic, which implies it contains the same concentration of vital electrolytes as the plasma in the blood. Yet, when it is released into the mouth, it is often hypotonic. The secretion undergoes a significant transformation within the duct system and the striated cells play a pivotal part in this process (Tandler et al., 2001).The basal infoldings in striated cells, laden with mitochondria, supply an active transport mechanism that reabsorbs sodium ions and secretes potassium ions into the saliva (Tandler et al., 2001; Roussa, 2011; Pedersen et al., 2018). This process is crucial for generating a hypotonic saliva upon release, which aids in digestion and oral hygiene. \n",
    "\n",
    "Additionally, the striated duct cells of the salivary glands serve other important physiological functions as well. These cells contribute significantly to the bicarbonate content of saliva (Roussa, 2011; Ohana, 2013; Pedersen et al., 2018), which plays a critical role in neutralizing the acids in the oral cavity, and thereby protecting the dental enamel from being eroded. This function further underlines their role in maintaining oral health. Thus, the striated cells of the salivary gland, with their distinctive structure and secretory functions, play a considerable role in the physiological action of saliva within the oral cavity..\n",
    "'''"
   ]
  },
  {
   "cell_type": "markdown",
   "id": "0260a62c-4219-4b1f-a34c-33d1cc9ca18d",
   "metadata": {},
   "source": [
    "Extract keywords from definition"
   ]
  },
  {
   "cell_type": "code",
   "execution_count": 4,
   "id": "9d529681-38bc-4c02-aae4-ef6c8e424fc5",
   "metadata": {},
   "outputs": [
    {
     "data": {
      "text/plain": [
       "'Here is the JSON object with the requested information:\\n\\n```\\n{\\n  \"cell_type_name\": \"Striated cell of salivary gland\",\\n  \"location\": \"Salivary glands, specifically in the striated ducts that connect the intercalated duct with the excretory duct\",\\n  \"cellular_component\": \"Basal membrane with longitudinal striations, basal infoldings with mitochondria\",\\n  \"biological_process\": \"Saliva secretion and modification, sodium and potassium ion transport, bicarbonate secretion, acid neutralization and dental enamel protection\",\\n  \"search\": [\"Striated duct cells\", \"Salivary gland\", \"Saliva secretion\", \"Ion transport\"]\\n}\\n```\\n\\nLet me know if you need any further assistance!'"
      ]
     },
     "execution_count": 4,
     "metadata": {},
     "output_type": "execute_result"
    }
   ],
   "source": [
    "chatbot_role = '''\n",
    "You are a knowledgeable cell biologist that has professional experience writing and curating accurate and informative descriptions of cell types.\n",
    "'''\n",
    "\n",
    "# command = '''\n",
    "# Can you extract the most important 4 keywords from this text so that I can find the most relevant articles using PubMed search: \"{cell_def}\". Just provide me a json list of keywords (strings) with values without outputing any extra text. No yapping.\n",
    "# '''\n",
    "\n",
    "command = '''\n",
    "Using this cell type definition \"{cell_def}\" and your own knowledge, can you profide me the location of this cell type ({cell_name}), the most important characteristics of this cell type and the most important biological process it is related. Just provide me a json object response with keys 'cell_type_name', 'location', 'cellular_component' and 'biological_process'. Additionally can you extract the most important/distinctive 4 keywords from this json that I can use for finding references for this cell type and add it to the josn as a list of strings with keyword 'search'. No yapping.\n",
    "'''\n",
    "\n",
    "my_question = command.format(cell_name=cell_type_name, cell_def=cell_definition)\n",
    "\n",
    "# Set up the chat scenario with roles\n",
    "messages = [\n",
    "    {\"role\": \"system\", \"content\": chatbot_role},\n",
    "    {\"role\": \"user\", \"content\": my_question}\n",
    "]\n",
    "\n",
    "# Apply the chat template to format the input for the model\n",
    "input_ids = tokenizer.apply_chat_template(messages, add_generation_prompt=True)\n",
    "\n",
    "# Decode the tokenized input back to text format to be used as a prompt for the model\n",
    "prompt = tokenizer.decode(input_ids)\n",
    "\n",
    "# Generate a response using the model\n",
    "response = generate(model, tokenizer, max_tokens=2048, prompt=prompt)\n",
    "response"
   ]
  },
  {
   "cell_type": "code",
   "execution_count": 5,
   "id": "9810ba70-1636-4c53-afd7-1e2a30cbd2a5",
   "metadata": {},
   "outputs": [
    {
     "data": {
      "text/markdown": [
       "Here are the 3 extracted statements:\n",
       "\n",
       "1. Striated cells are in salivary glands.\n",
       "2. Striated cells have basal infoldings and mitochondria.\n",
       "3. Striated cells modify and secrete saliva."
      ],
      "text/plain": [
       "<IPython.core.display.Markdown object>"
      ]
     },
     "execution_count": 5,
     "metadata": {},
     "output_type": "execute_result"
    }
   ],
   "source": [
    "chatbot_role = '''\n",
    "You are a knowledgeable cell biologist that has professional experience writing and curating accurate and informative descriptions of cell types.\n",
    "'''\n",
    "\n",
    "data = '''\n",
    "{\n",
    "\"cell_type_name\": \"Striated cell of salivary gland\",\n",
    "\"location\": \"Salivary glands, specifically in the striated ducts that connect the intercalated duct with the excretory duct\",\n",
    "\"cellular_component\": \"Basal membrane with longitudinal striations, basal infoldings laden with mitochondria\",\n",
    "\"biological_process\": \"Saliva secretion and modification, including sodium and potassium ion transport, bicarbonate secretion, and acid neutralization to maintain oral health and facilitate digestion\",\n",
    "}\n",
    "'''\n",
    "\n",
    "command = '''\n",
    "Can you extract the following 3 statements from this definition: \"{cell_def}\".\n",
    "\n",
    "1- cell type's location\n",
    "2- cell type's cellular components\n",
    "3- cell type related biological processes\n",
    "\n",
    "All definitions should be at most 8 words long. \n",
    "No yapping.\n",
    "'''\n",
    "\n",
    "my_question = command.format(cell_def=cell_definition)\n",
    "\n",
    "# Set up the chat scenario with roles\n",
    "messages = [\n",
    "    {\"role\": \"system\", \"content\": chatbot_role},\n",
    "    {\"role\": \"user\", \"content\": my_question}\n",
    "]\n",
    "\n",
    "# Apply the chat template to format the input for the model\n",
    "input_ids = tokenizer.apply_chat_template(messages, add_generation_prompt=True)\n",
    "\n",
    "# Decode the tokenized input back to text format to be used as a prompt for the model\n",
    "prompt = tokenizer.decode(input_ids)\n",
    "\n",
    "# Generate a response using the model\n",
    "response = generate(model, tokenizer, max_tokens=2048, prompt=prompt)\n",
    "\n",
    "from IPython.display import Markdown\n",
    "\n",
    "# Printing models response using Markdown cell formatting\n",
    "Markdown(response)"
   ]
  },
  {
   "cell_type": "code",
   "execution_count": 31,
   "id": "a2a2d798-02ad-47b9-8f1b-9e49219e9a68",
   "metadata": {},
   "outputs": [],
   "source": [
    "import json\n",
    "\n",
    "chatbot_role = '''\n",
    "You are a highly knowledgeable cell biologist with professional expertise in writing and curating concise and informative descriptions of various cell types. Your task is to extract and generate clear, precise statements about specific cell types from detailed definitions provided to you.'''\n",
    "\n",
    "# command = '''\n",
    "# Can you extract the most important 4 keywords from this text so that I can find the most relevant articles using PubMed search: \"{cell_def}\". Just provide me a json list of keywords (strings) with values without outputing any extra text. No yapping.\n",
    "# '''\n",
    "\n",
    "command = '''\n",
    "Extract the {result_count} most important and distinctive facts about '{cell_name}' from the given definition: '{cell_def}'. Ensure each statement is concise, not exceeding 8 words. Focus on accuracy and brevity.\n",
    "Return results as a json list. Each response should be a complete sence as '{cell_name}' (as full name) being the subject.\n",
    "Just return the json list as response, don't print anything else. Your response must be a valid json string, don't wrap json list items with curly braces. No yapping. \n",
    "'''\n",
    "\n",
    "def extract_facts(cell_type_name, cell_definition, count=10):\n",
    "    my_question = command.format(cell_name=cell_type_name, cell_def=cell_definition, result_count=str(count))\n",
    "    \n",
    "    # Set up the chat scenario with roles\n",
    "    messages = [\n",
    "        {\"role\": \"system\", \"content\": chatbot_role},\n",
    "        {\"role\": \"user\", \"content\": my_question}\n",
    "    ]\n",
    "    \n",
    "    # Apply the chat template to format the input for the model\n",
    "    input_ids = tokenizer.apply_chat_template(messages, add_generation_prompt=True)\n",
    "    \n",
    "    # Decode the tokenized input back to text format to be used as a prompt for the model\n",
    "    prompt = tokenizer.decode(input_ids)\n",
    "    \n",
    "    # Generate a response using the model\n",
    "    response = generate(model, tokenizer, max_tokens=2048, prompt=prompt)\n",
    "    \n",
    "    # from IPython.display import Markdown\n",
    "    # Markdown(response)\n",
    "    return json.loads(response)"
   ]
  },
  {
   "cell_type": "code",
   "execution_count": 32,
   "id": "e37549e3-0bd0-447b-889b-5241c88bf6ef",
   "metadata": {},
   "outputs": [
    {
     "data": {
      "text/plain": [
       "['Striated cell of salivary gland has longitudinal striations.',\n",
       " 'Striated cell of salivary gland is highly specialized.',\n",
       " 'Striated cell of salivary gland is unique to salivary glands.',\n",
       " 'Striated cell of salivary gland is part of salivary duct system.',\n",
       " 'Striated cell of salivary gland modifies saliva composition.',\n",
       " 'Striated cell of salivary gland reabsorbs sodium ions.',\n",
       " 'Striated cell of salivary gland secretes potassium ions.',\n",
       " 'Striated cell of salivary gland aids in digestion.',\n",
       " 'Striated cell of salivary gland maintains oral hygiene.',\n",
       " 'Striated cell of salivary gland neutralizes oral acids.']"
      ]
     },
     "execution_count": 32,
     "metadata": {},
     "output_type": "execute_result"
    }
   ],
   "source": [
    "response = extract_facts(cell_type_name, cell_definition)\n",
    "response"
   ]
  },
  {
   "cell_type": "code",
   "execution_count": 8,
   "id": "fd778d62-a4e5-40eb-bf72-bdafbeeea879",
   "metadata": {},
   "outputs": [],
   "source": [
    "import yaml\n",
    "from curate_gpt.agents.evidence_agent import EvidenceAgent\n",
    "from curate_gpt.extract.basic_extractor import BasicExtractor\n",
    "from curate_gpt.wrappers.literature.pubmed_wrapper import PubmedWrapper\n",
    "from curate_gpt.store import get_store\n",
    "\n",
    "def curategpt_citeseek(query):\n",
    "    db = get_store(\"chromadb\", None)\n",
    "    extractor = BasicExtractor()\n",
    "    extractor.model_name = \"gpt-4o\"\n",
    "    chatbot = PubmedWrapper(local_store=db, extractor=extractor)\n",
    "    ea = EvidenceAgent(chat_agent=chatbot)\n",
    "    response = ea.find_evidence_simple(query)\n",
    "    return response"
   ]
  },
  {
   "cell_type": "code",
   "execution_count": 20,
   "id": "206f1021-76f2-4faf-b903-b29ac75b5d03",
   "metadata": {},
   "outputs": [
    {
     "name": "stdout",
     "output_type": "stream",
     "text": [
      "- reference: PMID:21054495\n",
      "  supports: SUPPORT\n",
      "  snippet: Striated duct adenomas are unilayered ductal tumours that recapitulate\n",
      "    normal striated ducts.\n",
      "  explanation: The literature describes striations as a characteristic of normal striated\n",
      "    ducts.\n",
      "- reference: PMID:9825895\n",
      "  supports: SUPPORT\n",
      "  snippet: The duct system of the rat submandibular gland (granular convoluted tubule\n",
      "    [GCT], striated duct, excretory duct, main excretory duct [MED] and salivary bladder)\n",
      "    was studied...\n",
      "  explanation: The description implies striations are a characteristic feature of\n",
      "    the striated ducts.\n",
      "\n"
     ]
    }
   ],
   "source": [
    "response = curategpt_citeseek(\"Striated cell of salivary gland, also known as striated duct cells, has longitudinal striations.\")\n",
    "print(yaml.dump(response, sort_keys=False))"
   ]
  },
  {
   "cell_type": "code",
   "execution_count": 34,
   "id": "60fb776f-88aa-4343-b06c-23ce665202b7",
   "metadata": {},
   "outputs": [
    {
     "name": "stdout",
     "output_type": "stream",
     "text": [
      "{'cell_type': 'Striated cell of salivary gland', 'definition': 'The striated cells of the salivary gland, also known as striated duct cells, play a central role in the secretion and modification of saliva. These cells exhibit distinctive longitudinal striations along their basal membrane, which give them their name (Roussa, 2011). Highly specialized and unique to the salivary glands, striated cells are considered an integral part of the salivary duct system, specifically in the striated ducts that connect the intercalated duct with the excretory duct in the gland.  Why are the striated cells vital? The saliva created within the salivary glands is initially isotonic, which implies it contains the same concentration of vital electrolytes as the plasma in the blood. Yet, when it is released into the mouth, it is often hypotonic. The secretion undergoes a significant transformation within the duct system and the striated cells play a pivotal part in this process (Tandler et al., 2001).The basal infoldings in striated cells, laden with mitochondria, supply an active transport mechanism that reabsorbs sodium ions and secretes potassium ions into the saliva (Tandler et al., 2001; Roussa, 2011; Pedersen et al., 2018). This process is crucial for generating a hypotonic saliva upon release, which aids in digestion and oral hygiene.  Additionally, the striated duct cells of the salivary glands serve other important physiological functions as well. These cells contribute significantly to the bicarbonate content of saliva (Roussa, 2011; Ohana, 2013; Pedersen et al., 2018), which plays a critical role in neutralizing the acids in the oral cavity, and thereby protecting the dental enamel from being eroded (Racz et al., 2018). This function further underlines their role in maintaining oral health. Thus, the striated cells of the salivary gland, with their distinctive structure and secretory functions, play a considerable role in the physiological action of saliva within the oral cavity. ', 'references': [{'PMID': '21120532', 'title': 'Channels and transporters in salivary glands'}, {'PMID': ' 11590591', 'title': 'Secretion by striated ducts of mammalian major salivary glands: Review from an ultrastructural, functional, and evolutionary perspective'}, {'PMID': ' 24164806', 'title': 'Transepithelial ion transport across duct cells of the salivary gland'}, {'PMID': '29878444', 'title': 'Salivary secretion in health and disease'}, {'PMID': ' 29769002', 'title': 'Defense Mechanisms Against Acid Exposure by Dental Enamel Formation, Saliva and Pancreatic Juice Production'}]}\n"
     ]
    }
   ],
   "source": [
    "import csv\n",
    "import json\n",
    "\n",
    "definitions_benchmark = dict()\n",
    "with open(\"./definitions.csv\", mode='r', newline='') as csvfile:\n",
    "    reader = csv.DictReader(csvfile)\n",
    "    for row in reader:\n",
    "        cell_type = row.get('cell_type')\n",
    "        if cell_type:\n",
    "            references =list()\n",
    "            for i in range(1, 11):\n",
    "                if row.get('ref_' + str(i)) != \"\":\n",
    "                    references.append(json.loads(row.get('ref_' + str(i))))\n",
    "            definitions_benchmark[cell_type] = {\"cell_type\": cell_type,\n",
    "                                               \"definition\":row.get('definition').replace(\"\\n\", \" \"),\n",
    "                                               \"references\": references}\n",
    "print(definitions_benchmark[\"Striated cell of salivary gland\"])\n"
   ]
  },
  {
   "cell_type": "code",
   "execution_count": 41,
   "id": "10cde594-a031-4044-921e-b6a145f4c953",
   "metadata": {},
   "outputs": [
    {
     "name": "stderr",
     "output_type": "stream",
     "text": [
      "Failed to search for Striated cell of salivary gland is unique to salivary glands.; params: {'db': 'pubmed', 'term': 'striated cell OR  salivary gland OR  salivary gland striated duct OR  striated duct cells OR  unique cell types in salivary glands OR  salivary gland histology OR  striated duct epithelium OR  salivary gland structure OR  acinar cells OR  intercalated ducts', 'retmax': 100, 'sort': 'relevance', 'retmode': 'json'}\n",
      "Failed to fetch data for ['10682899', '10759422', '1476190', '15709965', '15990024', '17157080', '1807485', '20108531', '20831576', '21120532', '21534000', '22208652', '22298651', '23061636', '23177984', '23443543', '23878825', '24164806', '24240699', '24406086', '24559652', '24598807', '24646566', '24675464', '24862590', '24862591', '24862599', '25680367', '25843887', '26285812', '26454716', '26537593', '26592972', '26662479', '26694219', '26751783', '27592814', '27796887', '28170182', '28192873', '28623666', '28732801', '29109049', '29181608', '29187363', '29335337', '29530983', '29634396', '29645367', '29769002', '29959699', '30006140', '30384153', '30459085', '30947088', '31220573', '31331226', '31455013', '31538335', '31731180', '31816416', '31900666', '32053992', '32162119', '32329061', '32829674', '33181249', '33449148', '33602260', '33742114', '33754871', '33808935', '33833270', '33870742', '33911236', '33946369', '34132572', '34142411', '34240705', '34339312', '34517215', '34994104', '35259994', '35381373', '35617216', '35741092', '35790092', '35799078', '36649293', '38068926', '38284125', '38674160', '38715201', '38937029', '4601379', '8155903', '830103', '9084322', '9599299', '9739538']\n"
     ]
    },
    {
     "name": "stdout",
     "output_type": "stream",
     "text": [
      "Processing failed for : Striated cell of salivary gland contributes to bicarbonate content.\n"
     ]
    },
    {
     "data": {
      "text/plain": [
       "[{'cell_type': 'Striated cell of salivary gland',\n",
       "  'statements': [{'statement': 'Striated cell of salivary gland has longitudinal striations.',\n",
       "    'references': [{'reference': 'PMID:21054495',\n",
       "      'supports': 'NO_EVIDENCE',\n",
       "      'snippet': \"Prominent cell membranes, reminiscent of ''striations'' of normal striated ducts, were seen.\",\n",
       "      'explanation': \"The snippet mentions 'striations' of striated ducts but does not provide explicit evidence on the presence of longitudinal striations in striated cells. Thus, there's no direct evidence supporting the statement.\"},\n",
       "     {'reference': 'PMID:11590591',\n",
       "      'supports': 'NO_EVIDENCE',\n",
       "      'snippet': 'Broad-based comparisons of ultrastructural and other data about SDs offer some insight into evolutionary history of salivary glands.',\n",
       "      'explanation': 'This reference discusses striated ducts (SDs) in general, but does not directly mention or provide evidence about longitudinal striations in striated cells.'}]},\n",
       "   {'statement': 'Striated cell of salivary gland is highly specialized.',\n",
       "    'references': [{'reference': 'PMID:11590591',\n",
       "      'supports': 'PARTIAL',\n",
       "      'snippet': 'In addition to their role in electrolyte homeostasis, striated ducts (SDs) in the major salivary glands of many mammalian species engage in secretion of organic products.',\n",
       "      'explanation': \"The literature partially supports the statement by indicating that the striated ducts have specialized functions, such as electrolyte homeostasis and organic product secretion, which implies specialization. However, it does not explicitly label them as 'highly' specialized.\"},\n",
       "     {'reference': 'PMID:18062404',\n",
       "      'supports': 'PARTIAL',\n",
       "      'snippet': 'Receptor binding with 3H-1,25(OH)2 vitamin D3 (vitamin D) and its oxygen analog 3H-OCT is demonstrated in rat, hamster, and mice submandibular, sublingual and parotid glands, using receptor microautoradiography high-resolution imaging. Nuclear uptake and retention of radiolabeled compound exist strongest in epithelial cells of striated ducts...',\n",
       "      'explanation': \"The striated ducts' involvement in vitamin D receptor binding suggests a specialized role in hormonal regulation. This supports their specialization but does not substantiate them as 'highly' specialized in a broader context.\"}]},\n",
       "   {'statement': 'Striated cell of salivary gland is unique to salivary glands.',\n",
       "    'references': [{'reference': 'PMID:11590591',\n",
       "      'supports': 'REFUTE',\n",
       "      'snippet': 'This phenomenon usually is manifested as the presence of small serous-like secretory granules in the apical cytoplasm of SD cells.',\n",
       "      'explanation': 'Although the statement mentions the uniqueness of striated cells to salivary glands, the literature indicates that striated duct cells perform specific secretory functions but does not claim their absolute uniqueness to salivary glands.'}]},\n",
       "   {'statement': 'Striated cell of salivary gland is part of salivary duct system.',\n",
       "    'references': [{'reference': 'PMID:11590591',\n",
       "      'supports': 'SUPPORT',\n",
       "      'snippet': 'In addition to their role in electrolyte homeostasis, striated ducts (SDs) in the major salivary glands of many mammalian species engage in secretion of organic products.',\n",
       "      'explanation': 'The striated ducts are indeed part of the salivary duct system, as they are responsible for roles including secretion and electrolyte homeostasis in the salivary glands.'}]},\n",
       "   {'statement': 'Striated cell of salivary gland modifies saliva composition.',\n",
       "    'references': [{'reference': 'PMID:35799078',\n",
       "      'supports': 'SUPPORT',\n",
       "      'snippet': 'The secretion of primary saliva by the acinus and the modification of saliva composition to final saliva by the intercalated and striated ducts.',\n",
       "      'explanation': 'The abstract clearly states that striated ducts, along with intercalated ducts, are involved in modifying saliva composition, supporting the statement.'}]},\n",
       "   {'statement': 'Striated cell of salivary gland reabsorbs sodium ions.',\n",
       "    'references': [{'reference': 'PMID:3305642',\n",
       "      'supports': 'SUPPORT',\n",
       "      'snippet': 'The evidence likewise indicates that it involves interactions between complex conductance pathways in the luminal cell membrane and a Na, K pump present in the basolateral cell membrane and that it is under autonomic and hormonal control.',\n",
       "      'explanation': 'This reference discusses the mechanism of ductal modification in salivary glands which involves sodium reabsorption, supporting the statement that striated cells of salivary glands reabsorb sodium ions.'}]},\n",
       "   {'statement': 'Striated cell of salivary gland secretes potassium ions.',\n",
       "    'references': [{'reference': 'PMID:22291145',\n",
       "      'supports': 'NO_EVIDENCE',\n",
       "      'snippet': 'strong evidence that K and Cl channels are similarly distributed in the apical PM',\n",
       "      'explanation': 'The literature discusses potassium ion channels’ distribution in salivary glands but does not specify secretion by striated cells.'},\n",
       "     {'reference': 'PMID:5558344',\n",
       "      'supports': 'NO_EVIDENCE',\n",
       "      'snippet': 'K uptake from the perfusion fluid after the ACh-induced K loss were measured',\n",
       "      'explanation': 'This study focuses on potassium uptake mechanisms rather than secretion by striated cells.'},\n",
       "     {'reference': 'PMID:11590591',\n",
       "      'supports': 'NO_EVIDENCE',\n",
       "      'snippet': 'SDs in the major salivary glands of many mammalian species engage in secretion of organic products.',\n",
       "      'explanation': 'The article discusses secretion in striated ducts but does not focus specifically on potassium ion secretion.'}]},\n",
       "   {'statement': 'Striated cell of salivary gland protects dental enamel.',\n",
       "    'references': [{'reference': 'PMID:29769002',\n",
       "      'supports': 'NO_EVIDENCE',\n",
       "      'snippet': 'The pancreas, the salivary glands and the dental enamel producing ameloblasts have marked developmental, structural and functional similarities. One of the most striking similarities is their bicarbonate-rich secretory product, serving acid neutralization.',\n",
       "      'explanation': 'While this reference discusses that salivary glands and dental enamel have similarities in producing bicarbonate for acid neutralization, it does not specifically mention striated cells protecting dental enamel.'},\n",
       "     {'reference': 'PMID:9825895',\n",
       "      'supports': 'NO_EVIDENCE',\n",
       "      'snippet': 'The duct system of the rat submandibular gland (granular convoluted tubule [GCT], striated duct, excretory duct, main excretory duct [MED] and salivary bladder) was studied using scanning and transmission electron microscopy...',\n",
       "      'explanation': 'This reference provides details about the cellular composition of the salivary gland duct system, including the striated duct, but does not mention any protective function of these cells on dental enamel.'}]},\n",
       "   {'statement': 'Striated cell of salivary gland aids in digestion.',\n",
       "    'references': [{'reference': 'PMID:29645367',\n",
       "      'supports': 'NO_EVIDENCE',\n",
       "      'snippet': 'Saliva exerts multiple functions in relation to the initial digestive processes taking place in the upper parts of the gastrointestinal tract.',\n",
       "      'explanation': 'While the literature discusses the role of saliva in digestion, it does not specifically address the function of striated cells in aiding digestion.'},\n",
       "     {'reference': 'PMID:11590591',\n",
       "      'supports': 'NO_EVIDENCE',\n",
       "      'snippet': 'The composition of these granules is largely unknown, except in the case of the cat and rat submandibular gland, where the granules have unequivocally been shown to contain kallikrein.',\n",
       "      'explanation': 'There is no specific mention of striated cells aiding in digestion. The focus is on the secretion of certain components like kallikrein.'}]}]}]"
      ]
     },
     "execution_count": 41,
     "metadata": {},
     "output_type": "execute_result"
    }
   ],
   "source": [
    "results = list()\n",
    "for cell_type in definitions_benchmark:\n",
    "    record = definitions_benchmark[cell_type]\n",
    "    facts = extract_facts(cell_type, record[\"definition\"])\n",
    "    cell_type_record = dict()\n",
    "    cell_type_record[\"cell_type\"] = cell_type\n",
    "    statements = list()\n",
    "    for fact in facts:\n",
    "        stmt = dict()\n",
    "        stmt[\"statement\"] = fact\n",
    "        try:\n",
    "            references = curategpt_citeseek(fact)\n",
    "            stmt[\"references\"] = references\n",
    "            statements.append(stmt)\n",
    "        except Exception as e:\n",
    "            print(\"Processing failed for : \" + fact)\n",
    "    cell_type_record[\"statements\"] = statements\n",
    "        # print(yaml.dump(references[0], sort_keys=False))\n",
    "        # print(\"----------\")\n",
    "    results.append(cell_type_record)\n",
    "    \n",
    "results"
   ]
  },
  {
   "cell_type": "code",
   "execution_count": 40,
   "id": "1cdcbfdc-7865-495d-a93b-7813c614801e",
   "metadata": {},
   "outputs": [
    {
     "data": {
      "text/plain": [
       "{'statements': [{'statement': 'Striated cell of salivary gland has longitudinal striations.',\n",
       "   'references': [{'reference': 'PMID:21054495',\n",
       "     'supports': 'WRONG_STATEMENT',\n",
       "     'snippet': \"Prominent cell membranes, reminiscent of ''striations'' of normal striated ducts, were seen.\",\n",
       "     'explanation': 'The document refers to striated duct cells having a prominent cell membrane that appear similar to striations, but does not mention longitudinal striations within individual striated cells themselves. The statement implies individual cells have longitudinal striations, which is incorrect.'}]},\n",
       "  {'statement': 'Striated cell of salivary gland is highly specialized.',\n",
       "   'references': [{'reference': 'PMID:11590591',\n",
       "     'supports': 'PARTIAL',\n",
       "     'snippet': 'In addition to their role in electrolyte homeostasis, striated ducts (SDs) in the major salivary glands of many mammalian species engage in secretion of organic products.',\n",
       "     'explanation': 'The striated ducts show specialization in terms of secretion and electrolyte homeostasis, suggesting some level of specialization in striated cells. However, this does not fully confirm the extent of specialization specifically within individual striated cells themselves.'},\n",
       "    {'reference': 'PMID:18062404',\n",
       "     'supports': 'SUPPORT',\n",
       "     'snippet': 'Nuclear uptake and retention of radiolabeled compound exist strongest in epithelial cells of striated ducts, granular convoluted tubules and in myoepithelial cells throughout, scattered in epithelial cells of intercalated ducts and relatively low in cells of serous and mucous acini.',\n",
       "     'explanation': 'The uptake and involvement of vitamin D suggest specialized functions in these cells, supporting the notion of striated duct cells being highly specialized in their roles in salivary glands.'}]},\n",
       "  {'statement': 'Striated cell of salivary gland is part of salivary duct system.',\n",
       "   'references': [{'reference': 'PMID:11590591',\n",
       "     'supports': 'SUPPORT',\n",
       "     'snippet': 'In addition to their role in electrolyte homeostasis, striated ducts (SDs) in the major salivary glands of many mammalian species engage in secretion of organic products.',\n",
       "     'explanation': 'The statement mentions the striated cell as part of the salivary duct system, which aligns with the role and position of striated ducts in salivary glands as described in this source.'}]},\n",
       "  {'statement': 'Striated cell of salivary gland modifies saliva composition.',\n",
       "   'references': [{'reference': 'PMID:35799078',\n",
       "     'supports': 'SUPPORT',\n",
       "     'snippet': 'The secretion of primary saliva by the acinus and the modification of saliva composition to final saliva by the intercalated and striated ducts.',\n",
       "     'explanation': 'The literature explicitly states that striated ducts modify the composition of saliva.'}]},\n",
       "  {'statement': 'Striated cell of salivary gland reabsorbs sodium ions.',\n",
       "   'references': [{'reference': 'PMID:3305642',\n",
       "     'supports': 'SUPPORT',\n",
       "     'snippet': 'Ductal modification of the primary secretion... results in NaCl reabsorption.',\n",
       "     'explanation': 'The reference discusses the modification of primary saliva by salivary ducts, including the reabsorption of sodium ions, which supports the statement.'}]},\n",
       "  {'statement': 'Striated cell of salivary gland secretes potassium ions.',\n",
       "   'references': [{'reference': 'PMID:2425634',\n",
       "     'supports': 'SUPPORT',\n",
       "     'snippet': 'Fluid secretion by exocrine glands is regulated by neurotransmitters and hormones. The secretagogues act on the acinar cells by switching on two types of conductance pathways: K+-selective channels in the basolateral membrane and Cl(-)-selective channels localized to the luminal membrane.',\n",
       "     'explanation': 'This excerpt suggests that potassium ion channels are present and active in salivary gland cells, which aligns with the secretion of potassium ions.'},\n",
       "    {'reference': 'PMID:8023890',\n",
       "     'supports': 'SUPPORT',\n",
       "     'snippet': \"The intracellular pH (pHi) indicator 2',7'-bis(carboxyethyl)-5(6)-carboxyfluorescein and microfluorimetry were used to characterize several ion transport mechanisms in rat parotid striated ducts. The recovery of ductal pHi from an acute acid load was Na+ dependent and inhibited by the amiloride analogue ethylisopropylamiloride... Upon removal of extracellular K+, ductal pHi rapidly decreased... consistent with a coupling between K+ and H+ (or OH-) fluxes in this tissue.\",\n",
       "     'explanation': 'The mention of potassium fluxes in striated ducts indicates that these cells are involved in potassium ion transport, supporting the statement.'}]},\n",
       "  {'statement': 'Striated cell of salivary gland contributes to bicarbonate content.',\n",
       "   'references': [{'reference': 'PMID:28215154',\n",
       "     'supports': 'SUPPORT',\n",
       "     'snippet': 'Salivary glands produce a bicarbonate-rich fluid containing digestive and protective proteins and other components to be delivered into the gastrointestinal tract.',\n",
       "     'explanation': 'This reference indicates that salivary glands produce a bicarbonate-rich fluid, suggesting that the cells within the glands, including striated duct cells, contribute to the bicarbonate content. Although it does not explicitly state the role of striated cells separately, it supports their involvement in bicarbonate secretion.'},\n",
       "    {'reference': 'PMID:2973265',\n",
       "     'supports': 'NO_EVIDENCE',\n",
       "     'snippet': 'Salivary gland striated duct cells play an important role in the modification of primary saliva by secretion and reabsorption of electrolytes...',\n",
       "     'explanation': 'While this reference describes the role of striated duct cells in modifying saliva through secretion and reabsorption of electrolytes, it does not directly mention bicarbonate involvement.'}]},\n",
       "  {'statement': 'Striated cell of salivary gland protects dental enamel.',\n",
       "   'references': [{'reference': 'PMID:29769002',\n",
       "     'supports': 'PARTIAL',\n",
       "     'snippet': 'The pancreas, the salivary glands, and the dental enamel producing ameloblasts have marked developmental, structural and functional similarities...they all have to defend against acid exposure by producing extremely large quantities of bicarbonate.',\n",
       "     'explanation': \"While the literature mentions salivary glands' role in acid neutralization, it doesn't explicitly state that this protects enamel. However, bicarbonate production could indirectly help protect enamel by neutralizing acids.\"},\n",
       "    {'reference': 'PMID:28361315',\n",
       "     'supports': 'NO_EVIDENCE',\n",
       "     'snippet': 'The salivary gland plays important roles in maintaining the health and homeostasis of the oral cavity by regulating functions, such as chewing, digestion, cleaning, and swallowing.',\n",
       "     'explanation': \"The reference discusses the salivary gland's functions but does not specifically mention protection of dental enamel.\"},\n",
       "    {'reference': 'PMID:9825895',\n",
       "     'supports': 'NO_EVIDENCE',\n",
       "     'snippet': 'The epithelium of the duct system was composed of a heterogeneous cell population. On scanning electron-microscopic observation, principal, dark, and tuft cells were easily distinguished...',\n",
       "     'explanation': 'The reference discusses the cells within the salivary ducts but does not specify any protective function relating to dental enamel.'}]},\n",
       "  {'statement': 'Striated cell of salivary gland aids in digestion.',\n",
       "   'references': [{'reference': 'PMID:12108756',\n",
       "     'supports': 'SUPPORT',\n",
       "     'snippet': 'Saliva has multiple essential functions in relation to the digestive process taking place in the upper parts of the gastrointestinal (GI) tract.',\n",
       "     'explanation': 'Although not specific to striated cells, the secretion of saliva, which includes contributions from various components of the salivary glands, aids in digestion.'},\n",
       "    {'reference': 'PMID:15181704',\n",
       "     'supports': 'SUPPORT',\n",
       "     'snippet': 'Salivary glands act as accessory digestive glands and produce a secretion referred to as saliva. Saliva has lubricating, cleansing, digestive and antimicrobial properties.',\n",
       "     'explanation': 'The salivary glands produce saliva which has digestive properties. However, the specific role of striated cells within this process is not detailed.'}]}]}"
      ]
     },
     "execution_count": 40,
     "metadata": {},
     "output_type": "execute_result"
    }
   ],
   "source": []
  },
  {
   "cell_type": "code",
   "execution_count": null,
   "id": "426ecdb2-4787-4680-abbc-211f271eac37",
   "metadata": {},
   "outputs": [],
   "source": []
  }
 ],
 "metadata": {
  "kernelspec": {
   "display_name": "Python 3 (ipykernel)",
   "language": "python",
   "name": "python3"
  },
  "language_info": {
   "codemirror_mode": {
    "name": "ipython",
    "version": 3
   },
   "file_extension": ".py",
   "mimetype": "text/x-python",
   "name": "python",
   "nbconvert_exporter": "python",
   "pygments_lexer": "ipython3",
   "version": "3.11.8"
  }
 },
 "nbformat": 4,
 "nbformat_minor": 5
}
