{
 "cells": [
  {
   "cell_type": "markdown",
   "id": "95aaee34-b81a-4150-a7e4-f9455cb747af",
   "metadata": {},
   "source": [
    "Download the model:\n",
    "```\n",
    "pip install -U \"huggingface_hub[cli]\"\n",
    "huggingface-cli login\n",
    "huggingface-cli download mlx-community/Meta-Llama-3-8B-Instruct-4bit --exclude \"original/*\" --local-dir mlx-community/Meta-Llama-3-8B-Instruct-4bit\n",
    "\n",
    "```"
   ]
  },
  {
   "cell_type": "code",
   "execution_count": 2,
   "id": "dff882af-1cea-4383-9d1c-dbdfe14db70a",
   "metadata": {},
   "outputs": [
    {
     "name": "stdout",
     "output_type": "stream",
     "text": [
      "Collecting ipywidgets\n",
      "  Using cached ipywidgets-8.1.5-py3-none-any.whl.metadata (2.3 kB)\n",
      "Requirement already satisfied: comm>=0.1.3 in ./venv/lib/python3.11/site-packages (from ipywidgets) (0.2.2)\n",
      "Requirement already satisfied: ipython>=6.1.0 in ./venv/lib/python3.11/site-packages (from ipywidgets) (8.27.0)\n",
      "Requirement already satisfied: traitlets>=4.3.1 in ./venv/lib/python3.11/site-packages (from ipywidgets) (5.14.3)\n",
      "Collecting widgetsnbextension~=4.0.12 (from ipywidgets)\n",
      "  Using cached widgetsnbextension-4.0.13-py3-none-any.whl.metadata (1.6 kB)\n",
      "Collecting jupyterlab-widgets~=3.0.12 (from ipywidgets)\n",
      "  Using cached jupyterlab_widgets-3.0.13-py3-none-any.whl.metadata (4.1 kB)\n",
      "Requirement already satisfied: decorator in ./venv/lib/python3.11/site-packages (from ipython>=6.1.0->ipywidgets) (5.1.1)\n",
      "Requirement already satisfied: jedi>=0.16 in ./venv/lib/python3.11/site-packages (from ipython>=6.1.0->ipywidgets) (0.19.1)\n",
      "Requirement already satisfied: matplotlib-inline in ./venv/lib/python3.11/site-packages (from ipython>=6.1.0->ipywidgets) (0.1.7)\n",
      "Requirement already satisfied: prompt-toolkit<3.1.0,>=3.0.41 in ./venv/lib/python3.11/site-packages (from ipython>=6.1.0->ipywidgets) (3.0.47)\n",
      "Requirement already satisfied: pygments>=2.4.0 in ./venv/lib/python3.11/site-packages (from ipython>=6.1.0->ipywidgets) (2.18.0)\n",
      "Requirement already satisfied: stack-data in ./venv/lib/python3.11/site-packages (from ipython>=6.1.0->ipywidgets) (0.6.3)\n",
      "Requirement already satisfied: typing-extensions>=4.6 in ./venv/lib/python3.11/site-packages (from ipython>=6.1.0->ipywidgets) (4.12.2)\n",
      "Requirement already satisfied: pexpect>4.3 in ./venv/lib/python3.11/site-packages (from ipython>=6.1.0->ipywidgets) (4.9.0)\n",
      "Requirement already satisfied: parso<0.9.0,>=0.8.3 in ./venv/lib/python3.11/site-packages (from jedi>=0.16->ipython>=6.1.0->ipywidgets) (0.8.4)\n",
      "Requirement already satisfied: ptyprocess>=0.5 in ./venv/lib/python3.11/site-packages (from pexpect>4.3->ipython>=6.1.0->ipywidgets) (0.7.0)\n",
      "Requirement already satisfied: wcwidth in ./venv/lib/python3.11/site-packages (from prompt-toolkit<3.1.0,>=3.0.41->ipython>=6.1.0->ipywidgets) (0.2.13)\n",
      "Requirement already satisfied: executing>=1.2.0 in ./venv/lib/python3.11/site-packages (from stack-data->ipython>=6.1.0->ipywidgets) (2.1.0)\n",
      "Requirement already satisfied: asttokens>=2.1.0 in ./venv/lib/python3.11/site-packages (from stack-data->ipython>=6.1.0->ipywidgets) (2.4.1)\n",
      "Requirement already satisfied: pure-eval in ./venv/lib/python3.11/site-packages (from stack-data->ipython>=6.1.0->ipywidgets) (0.2.3)\n",
      "Requirement already satisfied: six>=1.12.0 in ./venv/lib/python3.11/site-packages (from asttokens>=2.1.0->stack-data->ipython>=6.1.0->ipywidgets) (1.16.0)\n",
      "Using cached ipywidgets-8.1.5-py3-none-any.whl (139 kB)\n",
      "Using cached jupyterlab_widgets-3.0.13-py3-none-any.whl (214 kB)\n",
      "Using cached widgetsnbextension-4.0.13-py3-none-any.whl (2.3 MB)\n",
      "Installing collected packages: widgetsnbextension, jupyterlab-widgets, ipywidgets\n",
      "Successfully installed ipywidgets-8.1.5 jupyterlab-widgets-3.0.13 widgetsnbextension-4.0.13\n",
      "\n",
      "\u001b[1m[\u001b[0m\u001b[34;49mnotice\u001b[0m\u001b[1;39;49m]\u001b[0m\u001b[39;49m A new release of pip is available: \u001b[0m\u001b[31;49m24.0\u001b[0m\u001b[39;49m -> \u001b[0m\u001b[32;49m24.2\u001b[0m\n",
      "\u001b[1m[\u001b[0m\u001b[34;49mnotice\u001b[0m\u001b[1;39;49m]\u001b[0m\u001b[39;49m To update, run: \u001b[0m\u001b[32;49mpip install --upgrade pip\u001b[0m\n",
      "Requirement already satisfied: torch in ./venv/lib/python3.11/site-packages (2.4.1)\n",
      "Requirement already satisfied: filelock in ./venv/lib/python3.11/site-packages (from torch) (3.16.0)\n",
      "Requirement already satisfied: typing-extensions>=4.8.0 in ./venv/lib/python3.11/site-packages (from torch) (4.12.2)\n",
      "Requirement already satisfied: sympy in ./venv/lib/python3.11/site-packages (from torch) (1.13.2)\n",
      "Requirement already satisfied: networkx in ./venv/lib/python3.11/site-packages (from torch) (3.3)\n",
      "Requirement already satisfied: jinja2 in ./venv/lib/python3.11/site-packages (from torch) (3.1.4)\n",
      "Requirement already satisfied: fsspec in ./venv/lib/python3.11/site-packages (from torch) (2024.9.0)\n",
      "Requirement already satisfied: MarkupSafe>=2.0 in ./venv/lib/python3.11/site-packages (from jinja2->torch) (2.1.5)\n",
      "Requirement already satisfied: mpmath<1.4,>=1.1.0 in ./venv/lib/python3.11/site-packages (from sympy->torch) (1.3.0)\n",
      "\n",
      "\u001b[1m[\u001b[0m\u001b[34;49mnotice\u001b[0m\u001b[1;39;49m]\u001b[0m\u001b[39;49m A new release of pip is available: \u001b[0m\u001b[31;49m24.0\u001b[0m\u001b[39;49m -> \u001b[0m\u001b[32;49m24.2\u001b[0m\n",
      "\u001b[1m[\u001b[0m\u001b[34;49mnotice\u001b[0m\u001b[1;39;49m]\u001b[0m\u001b[39;49m To update, run: \u001b[0m\u001b[32;49mpip install --upgrade pip\u001b[0m\n",
      "Requirement already satisfied: mlx-lm in ./venv/lib/python3.11/site-packages (0.18.1)\n",
      "Requirement already satisfied: mlx>=0.17.0 in ./venv/lib/python3.11/site-packages (from mlx-lm) (0.17.2)\n",
      "Requirement already satisfied: numpy in ./venv/lib/python3.11/site-packages (from mlx-lm) (2.1.1)\n",
      "Requirement already satisfied: transformers>=4.39.3 in ./venv/lib/python3.11/site-packages (from transformers[sentencepiece]>=4.39.3->mlx-lm) (4.44.2)\n",
      "Requirement already satisfied: protobuf in ./venv/lib/python3.11/site-packages (from mlx-lm) (5.28.0)\n",
      "Requirement already satisfied: pyyaml in ./venv/lib/python3.11/site-packages (from mlx-lm) (6.0.2)\n",
      "Requirement already satisfied: jinja2 in ./venv/lib/python3.11/site-packages (from mlx-lm) (3.1.4)\n",
      "Requirement already satisfied: filelock in ./venv/lib/python3.11/site-packages (from transformers>=4.39.3->transformers[sentencepiece]>=4.39.3->mlx-lm) (3.16.0)\n",
      "Requirement already satisfied: huggingface-hub<1.0,>=0.23.2 in ./venv/lib/python3.11/site-packages (from transformers>=4.39.3->transformers[sentencepiece]>=4.39.3->mlx-lm) (0.24.6)\n",
      "Requirement already satisfied: packaging>=20.0 in ./venv/lib/python3.11/site-packages (from transformers>=4.39.3->transformers[sentencepiece]>=4.39.3->mlx-lm) (24.1)\n",
      "Requirement already satisfied: regex!=2019.12.17 in ./venv/lib/python3.11/site-packages (from transformers>=4.39.3->transformers[sentencepiece]>=4.39.3->mlx-lm) (2024.7.24)\n",
      "Requirement already satisfied: requests in ./venv/lib/python3.11/site-packages (from transformers>=4.39.3->transformers[sentencepiece]>=4.39.3->mlx-lm) (2.32.3)\n",
      "Requirement already satisfied: safetensors>=0.4.1 in ./venv/lib/python3.11/site-packages (from transformers>=4.39.3->transformers[sentencepiece]>=4.39.3->mlx-lm) (0.4.5)\n",
      "Requirement already satisfied: tokenizers<0.20,>=0.19 in ./venv/lib/python3.11/site-packages (from transformers>=4.39.3->transformers[sentencepiece]>=4.39.3->mlx-lm) (0.19.1)\n",
      "Requirement already satisfied: tqdm>=4.27 in ./venv/lib/python3.11/site-packages (from transformers>=4.39.3->transformers[sentencepiece]>=4.39.3->mlx-lm) (4.66.5)\n",
      "Requirement already satisfied: sentencepiece!=0.1.92,>=0.1.91 in ./venv/lib/python3.11/site-packages (from transformers[sentencepiece]>=4.39.3->mlx-lm) (0.2.0)\n",
      "Requirement already satisfied: MarkupSafe>=2.0 in ./venv/lib/python3.11/site-packages (from jinja2->mlx-lm) (2.1.5)\n",
      "Requirement already satisfied: fsspec>=2023.5.0 in ./venv/lib/python3.11/site-packages (from huggingface-hub<1.0,>=0.23.2->transformers>=4.39.3->transformers[sentencepiece]>=4.39.3->mlx-lm) (2024.9.0)\n",
      "Requirement already satisfied: typing-extensions>=3.7.4.3 in ./venv/lib/python3.11/site-packages (from huggingface-hub<1.0,>=0.23.2->transformers>=4.39.3->transformers[sentencepiece]>=4.39.3->mlx-lm) (4.12.2)\n",
      "Requirement already satisfied: charset-normalizer<4,>=2 in ./venv/lib/python3.11/site-packages (from requests->transformers>=4.39.3->transformers[sentencepiece]>=4.39.3->mlx-lm) (3.3.2)\n",
      "Requirement already satisfied: idna<4,>=2.5 in ./venv/lib/python3.11/site-packages (from requests->transformers>=4.39.3->transformers[sentencepiece]>=4.39.3->mlx-lm) (3.8)\n",
      "Requirement already satisfied: urllib3<3,>=1.21.1 in ./venv/lib/python3.11/site-packages (from requests->transformers>=4.39.3->transformers[sentencepiece]>=4.39.3->mlx-lm) (2.2.2)\n",
      "Requirement already satisfied: certifi>=2017.4.17 in ./venv/lib/python3.11/site-packages (from requests->transformers>=4.39.3->transformers[sentencepiece]>=4.39.3->mlx-lm) (2024.8.30)\n",
      "\n",
      "\u001b[1m[\u001b[0m\u001b[34;49mnotice\u001b[0m\u001b[1;39;49m]\u001b[0m\u001b[39;49m A new release of pip is available: \u001b[0m\u001b[31;49m24.0\u001b[0m\u001b[39;49m -> \u001b[0m\u001b[32;49m24.2\u001b[0m\n",
      "\u001b[1m[\u001b[0m\u001b[34;49mnotice\u001b[0m\u001b[1;39;49m]\u001b[0m\u001b[39;49m To update, run: \u001b[0m\u001b[32;49mpip install --upgrade pip\u001b[0m\n"
     ]
    }
   ],
   "source": [
    "import sys\n",
    "!{sys.executable} -m pip install --upgrade ipywidgets\n",
    "!{sys.executable} -m pip install torch\n",
    "!{sys.executable} -m pip install mlx-lm"
   ]
  },
  {
   "cell_type": "code",
   "execution_count": 4,
   "id": "f02d4558-840e-4ad4-9be8-6c1d96a37499",
   "metadata": {},
   "outputs": [],
   "source": [
    "from mlx_lm import load\n",
    "\n",
    "# # Define your model to import\n",
    "# model_name = \"mlx-community/Meta-Llama-3-8B-Instruct-4bit\"\n",
    "# # Loading model\n",
    "# model, tokenizer = load(model_name)\n",
    "\n",
    "# model_filename = '/Users/hk9/Downloads/llama_mlx/mlx-community/Meta-Llama-3-8B-Instruct-4bit'\n",
    "model_filename = '/Users/hk9/Downloads/llama_mlx/mlx-community/Meta-Llama-3.1-405B-4bit'\n",
    "model, tokenizer = load(model_filename)"
   ]
  },
  {
   "cell_type": "code",
   "execution_count": 6,
   "id": "be1e8265-94f6-4f7d-9d48-6e309e52fab0",
   "metadata": {},
   "outputs": [
    {
     "name": "stdout",
     "output_type": "stream",
     "text": [
      " playing the role of the \"other\" in the context of the story. The story is a commentary on the nature of identity and how it is shaped by the relationships we have with others.\n",
      "The story is set in a small town in the United States in the 1950s. The protagonist, a young woman named Sarah, is a newcomer to the town and is struggling to find her place. She is different from the other women in the town, who are all married with children and are content\n"
     ]
    }
   ],
   "source": [
    "from mlx_lm import generate\n",
    "\n",
    "# Generate a response from the model\n",
    "response = generate(model, tokenizer, prompt=\"hello\")\n",
    "\n",
    "# Output the response\n",
    "print(response)"
   ]
  },
  {
   "cell_type": "code",
   "execution_count": 23,
   "id": "07eaad73-8c89-4838-968b-39b210f93619",
   "metadata": {},
   "outputs": [],
   "source": [
    "# Define the role of the chatbot\n",
    "# chatbot_role = \"You are a biology expert chatbot. Your expertise is Cell Types and You answer with clear step by step solutions.\"\n",
    "chatbot_role = '''\n",
    "You are a knowledgeable cell biologist that has professional experience writing and curating accurate and informative descriptions of cell types.\n",
    "'''\n",
    "\n",
    "definition = '''\n",
    "I am making a knowledge-base about cell types. Each cell type is a term from the Cell Ontology and will have its own page with a detailed description of that cell type and its function. Please write me a description for \"striated duct cells of salivary gland\". Please return only the description and no other dialogue. The description should include information about the cell type's function. The description should be at least three paragraphs long.\n",
    "'''\n",
    "\n",
    "\n",
    "# my_question = f\"Can you process this definition: '{definition}'.\"\n",
    "my_question = definition\n",
    "\n",
    "# Set up the chat scenario with roles\n",
    "messages = [\n",
    "    {\"role\": \"system\", \"content\": chatbot_role},\n",
    "    {\"role\": \"user\", \"content\": my_question}\n",
    "]\n",
    "\n",
    "# Apply the chat template to format the input for the model\n",
    "input_ids = tokenizer.apply_chat_template(messages, add_generation_prompt=True)\n",
    "\n",
    "# Decode the tokenized input back to text format to be used as a prompt for the model\n",
    "prompt = tokenizer.decode(input_ids)\n",
    "\n",
    "# Generate a response using the model\n",
    "response = generate(model, tokenizer, max_tokens=2048, prompt=prompt)"
   ]
  },
  {
   "cell_type": "code",
   "execution_count": 24,
   "id": "fee3ad56-95fc-4fdb-ba1d-583ec5060a2e",
   "metadata": {},
   "outputs": [
    {
     "data": {
      "text/markdown": [
       "Striated duct cells of salivary gland are a type of secretory cell found in the striated ducts of salivary glands. These cells are responsible for producing and secreting saliva, which plays a crucial role in oral health and digestion. The striated duct cells are characterized by their distinctive striated appearance, which is due to the presence of myoepithelial cells that surround them. These cells are also known for their apical secretion, where they secrete saliva into the ducts through exocytosis.\n",
       "\n",
       "The primary function of striated duct cells is to produce and secrete saliva, which is a mixture of water, mucins, and enzymes. The saliva produced by these cells is essential for maintaining oral health by washing away food particles and neutralizing acids produced by bacteria. The saliva also helps to break down food in the mouth, making it easier to swallow. Additionally, the saliva produced by striated duct cells contains enzymes such as amylase and lipase, which help to break down carbohydrates and fats, respectively.\n",
       "\n",
       "Striated duct cells are also involved in the regulation of saliva production, which is controlled by the autonomic nervous system. The cells receive signals from the nervous system, which stimulate the release of saliva in response to changes in the oral environment, such as the presence of food or changes in the pH of the mouth. The striated duct cells are also capable of adapting to changes in the oral environment, such as changes in the composition of the diet, by adjusting their secretion rate accordingly. Overall, the striated duct cells of salivary glands play a crucial role in maintaining oral health and digestion, and their dysfunction can lead to various oral and systemic diseases."
      ],
      "text/plain": [
       "<IPython.core.display.Markdown object>"
      ]
     },
     "execution_count": 24,
     "metadata": {},
     "output_type": "execute_result"
    }
   ],
   "source": [
    "from IPython.display import Markdown\n",
    "\n",
    "# Printing models response using Markdown cell formatting\n",
    "Markdown(response)"
   ]
  },
  {
   "cell_type": "code",
   "execution_count": null,
   "id": "8bb4f5dd-4873-4948-9a12-50d8beeb4bbc",
   "metadata": {},
   "outputs": [],
   "source": []
  }
 ],
 "metadata": {
  "kernelspec": {
   "display_name": "venv",
   "language": "python",
   "name": "venv"
  },
  "language_info": {
   "codemirror_mode": {
    "name": "ipython",
    "version": 3
   },
   "file_extension": ".py",
   "mimetype": "text/x-python",
   "name": "python",
   "nbconvert_exporter": "python",
   "pygments_lexer": "ipython3",
   "version": "3.11.8"
  }
 },
 "nbformat": 4,
 "nbformat_minor": 5
}
