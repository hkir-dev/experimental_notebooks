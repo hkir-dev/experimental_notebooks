{
 "cells": [
  {
   "cell_type": "code",
   "execution_count": 1,
   "id": "c48d266a-30dd-4912-9ae8-fa75dee82761",
   "metadata": {},
   "outputs": [],
   "source": [
    "import json"
   ]
  },
  {
   "cell_type": "code",
   "execution_count": 18,
   "id": "1341a52b-351b-4acc-9796-5c9fb664e018",
   "metadata": {},
   "outputs": [],
   "source": [
    "with open(\"./data/HMBA_BG_consensus_annotation.json\", \"r\") as json_file:\n",
    "    cas = json.load(json_file)"
   ]
  },
  {
   "cell_type": "markdown",
   "id": "4ad03415-fbe7-4371-9b08-b881171848a6",
   "metadata": {},
   "source": [
    "Resolve DOIs"
   ]
  },
  {
   "cell_type": "code",
   "execution_count": 19,
   "id": "8350e1be-cc2d-4685-8d6d-182f58a61f8a",
   "metadata": {},
   "outputs": [],
   "source": [
    "reference_doi_dict = {\n",
    "    \"Garma et al. 2024\": \"https://doi.org/10.1038/s41467-024-50414-w\",\n",
    "    \"Agarwal et al. 2020\": \"https://doi.org/10.1038/s41467-020-17876-0\",\n",
    "    \"Kamath et al. 2022\": \"https://doi.org/10.1038/s41593-022-01061-1\",\n",
    "    \"He et al. 2021\": \"https://doi.org/10.1016/j.cub.2021.10.015\",\n",
    "    \"Krienen et al. 2020\": \"https://doi.org/10.1038/s41586-020-2874-8\",\n",
    "    \"Gokce et al. 2016\": \"https://doi.org/10.1016/j.celrep.2016.06.059\",\n",
    "    \"Stanley et al. 2020\": \"https://doi.org/10.1016/j.neuron.2019.11.004\",\n",
    "    \"Saunders et al. 2018\": \"https://doi.org/10.1016/j.cell.2018.07.028\",\n",
    "    \"Märtin et al. 2019\": \"https://doi.org/10.1016/j.celrep.2019.11.096\",\n",
    "    \"Muñoz-Manchado et al. 2018\": \"https://doi.org/10.1016/j.celrep.2018.07.053\",\n",
    "    \"Chen et al. 2021\": \"https://doi.org/10.1038/s41593-021-00938-x\",\n",
    "    \"Jäkel et al. 2019\": \"https://doi.org/10.1038/s41586-019-0903-2\",\n",
    "    \"Siletti et al. 2023\": \"https://doi.org/10.1126/science.add7046\",\n",
    "    \"Marques et al. 2016\": \"https://doi.org/10.1126/science.aaf6463\",\n",
    "    \"Wallace et al. 2017\": \"https://doi.org/10.1016/j.neuron.2017.03.017\",\n",
    "    \"Yao et al. 2023\": \"https://doi.org/10.1038/s41586-023-06812-z\",\n",
    "    \"Miyamoto and Fukuda et al. 2022\": \"https://doi.org/10.1523/ENEURO.0208-22.2022\",\n",
    "    \"Hodge et al. 2019\": \"https://doi.org/10.1038/s41586-019-1506-7\",\n",
    "    \"Lin et al. 2023\": \"https://doi.org/10.1073/pnas.2216231120\",\n",
    "    \"Tran et al 2021\": \"https://doi.org/10.1016/j.neuron.2021.09.001\",\n",
    "    \"Phillips et al 2023\": \"https://doi.org/10.1016/j.mcn.2023.103849\",\n",
    "    \"Tushar et al 2022\": \"https://doi.org/10.1038/s41593-022-01061-1\",\n",
    "    \"Zachary et al 2024\": \"https://doi.org/10.1101/2024.06.06.597807\",\n",
    "    \"Partanen et al. 2022\": \"https://doi.org/10.3389/fnins.2022.976209\",\n",
    "    \"Zachary et al. 2024 bioRxiv\": \"https://doi.org/10.1101/2024.06.06.597807\",\n",
    "    \"Tushar et al. 2022 NNS\": \"https://doi.org/10.1038/s41593-022-01061-1\",\n",
    "    \"Novel\": None\n",
    "}\n",
    "\n",
    "for annotation in cas[\"annotations\"]:\n",
    "    if annotation.get(\"rationale\"):\n",
    "        annotation[\"rationale_dois\"] = [reference_doi_dict[annotation.get(\"rationale\")]]\n",
    "        annotation[\"rationale\"] = None\n"
   ]
  },
  {
   "cell_type": "markdown",
   "id": "75936981-6b29-4344-84aa-d6ff6f6069ab",
   "metadata": {},
   "source": [
    "Get all cell labels"
   ]
  },
  {
   "cell_type": "code",
   "execution_count": 20,
   "id": "14efde1a-77dd-4c7f-86a3-5f33dcd6831d",
   "metadata": {},
   "outputs": [
    {
     "name": "stdout",
     "output_type": "stream",
     "text": [
      "CL:4030044 has_not_completed\n",
      "CL:4030045 lacks_part\n",
      "CL:4030046 lacks_plasma_membrane_part\n",
      "CL:0000000 cell\n",
      "CL:0000001 primary cultured cell\n",
      "CL:0000002 obsolete immortal cell line cell\n",
      "CL:0000003 obsolete native cell\n",
      "CL:0000004 obsolete cell by organism\n",
      "CL:0000005 neural crest derived fibroblast\n",
      "CL:0000006 neuronal receptor cell\n"
     ]
    }
   ],
   "source": [
    "import rdflib\n",
    "from rdflib.namespace import RDFS\n",
    "\n",
    "g = rdflib.Graph()\n",
    "url = \"https://github.com/obophenotype/cell-ontology/raw/refs/heads/master/cl-base.owl\"\n",
    "g.parse(url, format=\"xml\")\n",
    "\n",
    "# Build a dictionary of CL term IRIs to labels\n",
    "cl_terms = {}\n",
    "for subject, predicate, obj in g.triples((None, RDFS.label, None)):\n",
    "    subject_str = str(subject)\n",
    "    # Only capture cell ontology terms\n",
    "    if subject_str.startswith(\"http://purl.obolibrary.org/obo/CL_\"):\n",
    "        cl_terms[subject_str.replace(\"http://purl.obolibrary.org/obo/CL_\", \"CL:\")] = str(obj)\n",
    "\n",
    "for key, value in list(cl_terms.items())[:10]:\n",
    "    print(key, value)"
   ]
  },
  {
   "cell_type": "markdown",
   "id": "2a510dd8-67f0-414d-8057-44051954521c",
   "metadata": {},
   "source": [
    "Add Cell IDs"
   ]
  },
  {
   "cell_type": "code",
   "execution_count": 21,
   "id": "6796c16f-a782-4de3-9a82-eb8179d3d262",
   "metadata": {},
   "outputs": [],
   "source": [
    "accession_index = dict()\n",
    "for annotation in cas[\"annotations\"]:\n",
    "    accession_index[annotation[\"cell_set_accession\"]] = annotation\n",
    "\n",
    "for annotation in cas[\"annotations\"]:\n",
    "    if annotation.get(\"author_annotation_fields\"):\n",
    "        aaf = annotation.get(\"author_annotation_fields\")\n",
    "        if aaf.get(\"CL:ID_group\") and aaf.get(\"CL:ID_group\").strip().startswith(\"CL:\"):\n",
    "            cl_id = aaf.get(\"CL:ID_group\").strip()\n",
    "            annotation[\"cell_ontology_term\"] = cl_terms[cl_id]\n",
    "            annotation[\"cell_ontology_term_id\"] = cl_id\n",
    "            del aaf[\"CL:ID_group\"]\n",
    "        if aaf.get(\"CL:ID_subclass\") and aaf.get(\"CL:ID_subclass\").strip().startswith(\"CL:\"):\n",
    "            subclass_annotation = accession_index[annotation[\"parent_cell_set_accession\"]]\n",
    "            cl_id = aaf.get(\"CL:ID_subclass\").strip()\n",
    "            subclass_annotation[\"cell_ontology_term\"] = cl_terms[cl_id]\n",
    "            subclass_annotation[\"cell_ontology_term_id\"] = cl_id\n",
    "            del aaf[\"CL:ID_subclass\"]\n",
    "        if aaf.get(\"CL:ID_class\") and aaf.get(\"CL:ID_class\").strip().startswith(\"CL:\"):\n",
    "            subclass_annotation = accession_index[annotation[\"parent_cell_set_accession\"]]\n",
    "            class_annotation = accession_index[subclass_annotation[\"parent_cell_set_accession\"]]\n",
    "            cl_id = aaf.get(\"CL:ID_class\").strip()\n",
    "            class_annotation[\"cell_ontology_term\"] = cl_terms[cl_id]\n",
    "            class_annotation[\"cell_ontology_term_id\"] = cl_id\n",
    "            del aaf[\"CL:ID_class\"]\n",
    "        if aaf.get(\"CL:ID_neighborhood\") and aaf.get(\"CL:ID_neighborhood\").strip().startswith(\"CL:\"):\n",
    "            subclass_annotation = accession_index[annotation[\"parent_cell_set_accession\"]]\n",
    "            class_annotation = accession_index[subclass_annotation[\"parent_cell_set_accession\"]]\n",
    "            neighborhood_annotation = accession_index[class_annotation[\"parent_cell_set_accession\"]]\n",
    "            cl_id = aaf.get(\"CL:ID_neighborhood\").strip()\n",
    "            neighborhood_annotation[\"cell_ontology_term\"] = cl_terms[cl_id]\n",
    "            neighborhood_annotation[\"cell_ontology_term_id\"] = cl_id\n",
    "            del aaf[\"CL:ID_neighborhood\"]        "
   ]
  },
  {
   "cell_type": "code",
   "execution_count": 22,
   "id": "83ab102f-361c-468d-acf8-b436c82f6851",
   "metadata": {},
   "outputs": [],
   "source": [
    "with open(\"./data/HMBA_BG_consensus_annotation_2.json\", \"w\") as file:\n",
    "    json.dump(cas, file, indent=4)"
   ]
  },
  {
   "cell_type": "code",
   "execution_count": null,
   "id": "675fbe38-0ea5-48e9-afb8-50cf7f8692c0",
   "metadata": {},
   "outputs": [],
   "source": []
  }
 ],
 "metadata": {
  "kernelspec": {
   "display_name": "venv",
   "language": "python",
   "name": "venv"
  },
  "language_info": {
   "codemirror_mode": {
    "name": "ipython",
    "version": 3
   },
   "file_extension": ".py",
   "mimetype": "text/x-python",
   "name": "python",
   "nbconvert_exporter": "python",
   "pygments_lexer": "ipython3",
   "version": "3.9.6"
  }
 },
 "nbformat": 4,
 "nbformat_minor": 5
}
