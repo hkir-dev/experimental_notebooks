{
 "cells": [
  {
   "cell_type": "code",
   "execution_count": 19,
   "id": "c8bb68ae-27d2-4627-9729-2c8a7a0cd898",
   "metadata": {},
   "outputs": [],
   "source": [
    "import json"
   ]
  },
  {
   "cell_type": "code",
   "execution_count": 33,
   "id": "e6378339-b8ab-49ed-a269-34f86149e4d2",
   "metadata": {},
   "outputs": [
    {
     "name": "stdout",
     "output_type": "stream",
     "text": [
      "Kimberly Siletti\n"
     ]
    }
   ],
   "source": [
    "with open('data/siletti/CS202210140_non_neuronal.json') as f:\n",
    "# with open('data/siletti/CS202210140_neurons.json') as f:\n",
    "    cas = json.load(f)\n",
    "\n",
    "print(cas[\"author_name\"])"
   ]
  },
  {
   "cell_type": "code",
   "execution_count": 21,
   "id": "eb943941-29be-464c-9347-55c6220ac50b",
   "metadata": {},
   "outputs": [
    {
     "name": "stdout",
     "output_type": "stream",
     "text": [
      "Cluster  79\n",
      "supercluster_term  10\n"
     ]
    }
   ],
   "source": [
    "labelsets = dict()\n",
    "for annotation in cas[\"annotations\"]:\n",
    "    if annotation[\"labelset\"] in labelsets:\n",
    "        labelsets[annotation[\"labelset\"]].add(annotation[\"cell_label\"])\n",
    "    else:\n",
    "        labelsets[annotation[\"labelset\"]]={annotation[\"cell_label\"]}\n",
    "\n",
    "for labelset in labelsets:\n",
    "    print(labelset + \"  \" + str(len(labelsets[labelset])))"
   ]
  },
  {
   "cell_type": "code",
   "execution_count": 22,
   "id": "329fc866-556d-4032-a924-88ecbec147e8",
   "metadata": {},
   "outputs": [
    {
     "name": "stdout",
     "output_type": "stream",
     "text": [
      "Number of annotations with rationale : 10\n"
     ]
    }
   ],
   "source": [
    "annotations_with_rationale = 0\n",
    "for annotation in cas[\"annotations\"]:\n",
    "    if \"rationale\" in annotation and annotation[\"rationale\"]:\n",
    "        annotations_with_rationale += 1\n",
    "print(\"Number of annotations with rationale : \" + str(annotations_with_rationale))"
   ]
  },
  {
   "cell_type": "code",
   "execution_count": 35,
   "id": "8c507212-efd2-4b9a-af35-8634f753de1c",
   "metadata": {},
   "outputs": [
    {
     "name": "stdout",
     "output_type": "stream",
     "text": [
      "Number of annotations with marker_gene_evidence : 16\n"
     ]
    }
   ],
   "source": [
    "annotations_with_evidence = 0\n",
    "for annotation in cas[\"annotations\"]:\n",
    "    if \"marker_gene_evidence\" in annotation and annotation[\"marker_gene_evidence\"] and annotation[\"marker_gene_evidence\"][0] != \"\":\n",
    "        annotations_with_evidence += 1\n",
    "print(\"Number of annotations with marker_gene_evidence : \" + str(annotations_with_evidence))"
   ]
  },
  {
   "cell_type": "code",
   "execution_count": 24,
   "id": "86162b8f-2132-4a45-bb7e-7fcc2baee16b",
   "metadata": {},
   "outputs": [
    {
     "name": "stdout",
     "output_type": "stream",
     "text": [
      "Number of annotations with CL mapping : 18\n"
     ]
    }
   ],
   "source": [
    "annotations_with_cl_mapping = 0\n",
    "for annotation in cas[\"annotations\"]:\n",
    "    if \"cell_ontology_term_id\" in annotation and annotation[\"cell_ontology_term_id\"]:\n",
    "        annotations_with_cl_mapping += 1\n",
    "print(\"Number of annotations with CL mapping : \" + str(annotations_with_cl_mapping))"
   ]
  },
  {
   "cell_type": "code",
   "execution_count": null,
   "id": "ea00059d-afbc-4fbe-9d66-a5c40d95e384",
   "metadata": {},
   "outputs": [],
   "source": []
  }
 ],
 "metadata": {
  "kernelspec": {
   "display_name": "venv",
   "language": "python",
   "name": "venv"
  },
  "language_info": {
   "codemirror_mode": {
    "name": "ipython",
    "version": 3
   },
   "file_extension": ".py",
   "mimetype": "text/x-python",
   "name": "python",
   "nbconvert_exporter": "python",
   "pygments_lexer": "ipython3",
   "version": "3.9.6"
  }
 },
 "nbformat": 4,
 "nbformat_minor": 5
}
